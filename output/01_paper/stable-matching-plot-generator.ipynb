{
 "cells": [
  {
   "cell_type": "code",
   "execution_count": 1,
   "id": "0b4231fd",
   "metadata": {},
   "outputs": [],
   "source": [
    "import os\n",
    "import re\n",
    "import csv\n",
    "\n",
    "import pandas as pd\n",
    "import matplotlib.pyplot as plt\n",
    "from matplotlib.markers import MarkerStyle\n",
    "import numpy as np\n",
    "import math\n"
   ]
  },
  {
   "cell_type": "code",
   "execution_count": 2,
   "id": "4ac240f9",
   "metadata": {},
   "outputs": [],
   "source": [
    "directory = \"20230727\"\n",
    "p = re.compile(r\"\\d\\d\\d\")\n",
    "instance_size_regex = re.compile(r\"\\d\\d\\d\\d\")"
   ]
  },
  {
   "cell_type": "code",
   "execution_count": 3,
   "id": "8342c466",
   "metadata": {},
   "outputs": [],
   "source": [
    "density_structure = {}\n",
    "type_structure = {}\n",
    "\n",
    "GROUNDING_TIME = \"grounding_time\"\n",
    "GROUNDING_SIZE = \"grounding_size\"\n",
    "TOTAL_TIME = \"total_time\"\n",
    "\n",
    "GRINGO = \"gringo\"\n",
    "IDLV = \"idlv\"\n",
    "NEWGROUND_GRINGO = \"newground-gringo\"\n",
    "NEWGROUND_IDLV = \"newground-idlv\"\n",
    "\n",
    "\n",
    "grounder_types = [GRINGO, IDLV, NEWGROUND_GRINGO, NEWGROUND_IDLV]\n",
    "\n",
    "\n",
    "file_types = [GROUNDING_TIME, GROUNDING_SIZE, TOTAL_TIME]\n"
   ]
  },
  {
   "cell_type": "code",
   "execution_count": 4,
   "id": "5a4d83c7",
   "metadata": {},
   "outputs": [],
   "source": [
    "label_converter = {}\n",
    "label_converter[GRINGO] = GRINGO\n",
    "label_converter[IDLV] = IDLV\n",
    "label_converter[NEWGROUND_GRINGO] = \"NaGG-gringo\"\n",
    "label_converter[NEWGROUND_IDLV] = \"NaGG-idlv\""
   ]
  },
  {
   "cell_type": "code",
   "execution_count": 5,
   "id": "8e8a0208",
   "metadata": {},
   "outputs": [],
   "source": [
    "info = {}\n",
    "info[GROUNDING_SIZE] = {}\n",
    "info[GROUNDING_SIZE][\"filename\"] = \"00_benchmark_output_sm_aspcomp2013_grounding_size.csv\" \n",
    "info[GROUNDING_SIZE][\"title\"] = \"Grounding Size Plot\"\n",
    "info[GROUNDING_SIZE][\"y_label\"] = \"Grounding Size [MB]\"\n",
    "info[GROUNDING_SIZE][\"plot_file_name\"] = \"S1_stable_matching_grounding_size.svg\" \n",
    "\n",
    "\n",
    "\n",
    "info[GROUNDING_TIME] = {}\n",
    "info[GROUNDING_TIME][\"filename\"] = \"00_benchmark_output_sm_aspcomp2013_grounding_time.csv\" \n",
    "info[GROUNDING_TIME][\"title\"] = \"Grounding Time Plot\"\n",
    "info[GROUNDING_TIME][\"y_label\"] = \"Grounding Time [s]\"\n",
    "info[GROUNDING_TIME][\"plot_file_name\"] = \"S1_stable_matching_grounding_time.svg\" \n",
    "\n",
    "\n",
    "\n",
    "\n",
    "info[TOTAL_TIME] = {}\n",
    "info[TOTAL_TIME][\"filename\"] = \"00_benchmark_output_sm_aspcomp2013_total_time.csv\" \n",
    "info[TOTAL_TIME][\"title\"] = \"Total Time Plot\"\n",
    "info[TOTAL_TIME][\"y_label\"] = \"Combined Time [s]\"\n",
    "info[TOTAL_TIME][\"plot_file_name\"] = \"S1_stable_matching_total_time.svg\" \n"
   ]
  },
  {
   "cell_type": "code",
   "execution_count": 6,
   "id": "83252f51",
   "metadata": {},
   "outputs": [],
   "source": [
    "for key in info.keys():\n",
    "    path = info[key][\"filename\"]\n",
    "    info[key][\"df\"] = pd.read_csv(os.path.join(directory,path), delimiter=',')\n"
   ]
  },
  {
   "cell_type": "code",
   "execution_count": 57,
   "id": "c1bc5bb5",
   "metadata": {},
   "outputs": [],
   "source": [
    "# plot lines\n",
    "for key in info.keys():\n",
    "    \n",
    "    plotting_columns = []\n",
    "    \n",
    "    for column in info[key][\"df\"].columns:\n",
    "        if \"timeout\" not in column and \"instance\" not in column:              \n",
    "            plotting_columns.append(column)\n",
    "    \n",
    "    list_instances = list(info[key][\"df\"][\"instance\"])\n",
    "    instance_size_list = [int((instance_size_regex.search(instance)).group(0)) for instance in list_instances]\n",
    "\n",
    "    for column in plotting_columns:\n",
    "        \n",
    "        label = None\n",
    "        for strategy in grounder_types:\n",
    "            if column.startswith(strategy):\n",
    "                label = label_converter[strategy]\n",
    "                \n",
    "        if \"size\" in column:\n",
    "            #plt.yscale('log')\n",
    "            plot_column = [float(item)/1024 if float(item) <= 32*(math.pow(10,6)) else 32*(math.pow(10,6)) for item in list(info[key][\"df\"][column])]\n",
    "        else:\n",
    "            plot_column = list(info[key][\"df\"][column])\n",
    "            \n",
    "        plt.plot(instance_size_list, plot_column, label=label)\n",
    "    \n",
    "    plt.ylabel(info[key][\"y_label\"])\n",
    "    plt.xlabel(\"Instance Number\")\n",
    "    #plt.title(info[key][\"title\"])\n",
    "    \n",
    "    handles, labels = plt.gca().get_legend_handles_labels()\n",
    "    \n",
    "    order = [2,3,1,0]\n",
    "    \n",
    "    plt.legend([handles[idx] for idx in order],[labels[idx] for idx in order],prop={'size': 14},loc='upper left')\n",
    "    font = {'family' : 'sans-serif',\n",
    "        'weight' : 'normal',\n",
    "        'size'   : 14}\n",
    "\n",
    "\n",
    "    plt.rc('font', **font)\n",
    "    \n",
    "    plt.show()\n",
    "    \n",
    "    #plt.savefig(info[key][\"plot_file_name\"], bbox_inches='tight', transparent=True)\n",
    "    plt.close('all')"
   ]
  },
  {
   "cell_type": "code",
   "execution_count": null,
   "id": "e5b0ad8c",
   "metadata": {},
   "outputs": [],
   "source": []
  },
  {
   "cell_type": "code",
   "execution_count": null,
   "id": "26569400",
   "metadata": {},
   "outputs": [],
   "source": []
  },
  {
   "cell_type": "code",
   "execution_count": null,
   "id": "61f1e069",
   "metadata": {},
   "outputs": [],
   "source": []
  }
 ],
 "metadata": {
  "kernelspec": {
   "display_name": "Python 3 (ipykernel)",
   "language": "python",
   "name": "python3"
  },
  "language_info": {
   "codemirror_mode": {
    "name": "ipython",
    "version": 3
   },
   "file_extension": ".py",
   "mimetype": "text/x-python",
   "name": "python",
   "nbconvert_exporter": "python",
   "pygments_lexer": "ipython3",
   "version": "3.11.3"
  }
 },
 "nbformat": 4,
 "nbformat_minor": 5
}
